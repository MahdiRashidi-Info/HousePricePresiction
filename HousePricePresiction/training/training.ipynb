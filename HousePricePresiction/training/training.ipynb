{
 "cells": [
  {
   "cell_type": "markdown",
   "id": "edf8e1e9-ffe6-4e75-aeb5-a53dbe417625",
   "metadata": {},
   "source": [
    "# Import necessary libraries\n"
   ]
  },
  {
   "cell_type": "code",
   "execution_count": 1,
   "id": "e16c955c-3d35-4547-8b38-2c2c216dd9f4",
   "metadata": {},
   "outputs": [],
   "source": [
    "import matplotlib.pyplot as plt\n",
    "import pandas as pd\n",
    "from sklearn.preprocessing import LabelEncoder, OneHotEncoder\n",
    "from sklearn.model_selection import train_test_split\n",
    "from sklearn.neighbors import KNeighborsRegressor\n",
    "from sklearn.metrics import mean_squared_error, r2_score\n",
    "from sklearn import preprocessing\n",
    "import joblib"
   ]
  },
  {
   "cell_type": "markdown",
   "id": "04cdeb22-00f2-4eb7-9f65-bd9618c160d4",
   "metadata": {},
   "source": [
    "# Load your dataset and data cleaning"
   ]
  },
  {
   "cell_type": "code",
   "execution_count": 2,
   "id": "06fecce2-f2dc-41d3-9b51-338db2573f80",
   "metadata": {},
   "outputs": [
    {
     "data": {
      "text/html": [
       "<div>\n",
       "<style scoped>\n",
       "    .dataframe tbody tr th:only-of-type {\n",
       "        vertical-align: middle;\n",
       "    }\n",
       "\n",
       "    .dataframe tbody tr th {\n",
       "        vertical-align: top;\n",
       "    }\n",
       "\n",
       "    .dataframe thead th {\n",
       "        text-align: right;\n",
       "    }\n",
       "</style>\n",
       "<table border=\"1\" class=\"dataframe\">\n",
       "  <thead>\n",
       "    <tr style=\"text-align: right;\">\n",
       "      <th></th>\n",
       "      <th>Area</th>\n",
       "      <th>Room</th>\n",
       "      <th>Parking</th>\n",
       "      <th>Warehouse</th>\n",
       "      <th>Elevator</th>\n",
       "      <th>Address</th>\n",
       "      <th>Price</th>\n",
       "      <th>Price(USD)</th>\n",
       "    </tr>\n",
       "  </thead>\n",
       "  <tbody>\n",
       "    <tr>\n",
       "      <th>0</th>\n",
       "      <td>63.0</td>\n",
       "      <td>1</td>\n",
       "      <td>True</td>\n",
       "      <td>True</td>\n",
       "      <td>True</td>\n",
       "      <td>Shahran</td>\n",
       "      <td>1850000000</td>\n",
       "      <td>61667.0</td>\n",
       "    </tr>\n",
       "    <tr>\n",
       "      <th>1</th>\n",
       "      <td>60.0</td>\n",
       "      <td>1</td>\n",
       "      <td>True</td>\n",
       "      <td>True</td>\n",
       "      <td>True</td>\n",
       "      <td>Shahran</td>\n",
       "      <td>1850000000</td>\n",
       "      <td>61667.0</td>\n",
       "    </tr>\n",
       "    <tr>\n",
       "      <th>2</th>\n",
       "      <td>79.0</td>\n",
       "      <td>2</td>\n",
       "      <td>True</td>\n",
       "      <td>True</td>\n",
       "      <td>True</td>\n",
       "      <td>Pardis</td>\n",
       "      <td>550000000</td>\n",
       "      <td>18333.0</td>\n",
       "    </tr>\n",
       "    <tr>\n",
       "      <th>3</th>\n",
       "      <td>95.0</td>\n",
       "      <td>2</td>\n",
       "      <td>True</td>\n",
       "      <td>True</td>\n",
       "      <td>True</td>\n",
       "      <td>Shahrake Qods</td>\n",
       "      <td>902500000</td>\n",
       "      <td>30083.0</td>\n",
       "    </tr>\n",
       "    <tr>\n",
       "      <th>4</th>\n",
       "      <td>123.0</td>\n",
       "      <td>2</td>\n",
       "      <td>True</td>\n",
       "      <td>True</td>\n",
       "      <td>True</td>\n",
       "      <td>Shahrake Gharb</td>\n",
       "      <td>7000000000</td>\n",
       "      <td>233333.0</td>\n",
       "    </tr>\n",
       "  </tbody>\n",
       "</table>\n",
       "</div>"
      ],
      "text/plain": [
       "    Area  Room  Parking  Warehouse  Elevator         Address       Price  \\\n",
       "0   63.0     1     True       True      True         Shahran  1850000000   \n",
       "1   60.0     1     True       True      True         Shahran  1850000000   \n",
       "2   79.0     2     True       True      True          Pardis   550000000   \n",
       "3   95.0     2     True       True      True   Shahrake Qods   902500000   \n",
       "4  123.0     2     True       True      True  Shahrake Gharb  7000000000   \n",
       "\n",
       "   Price(USD)  \n",
       "0     61667.0  \n",
       "1     61667.0  \n",
       "2     18333.0  \n",
       "3     30083.0  \n",
       "4    233333.0  "
      ]
     },
     "execution_count": 2,
     "metadata": {},
     "output_type": "execute_result"
    }
   ],
   "source": [
    "df = pd.read_csv('housePrice.csv')\n",
    "\n",
    "# Round the 'Price' column to the nearest integer\n",
    "df['Price(USD)'] = df['Price(USD)'].round(0)\n",
    "\n",
    "# Data Cleaning\n",
    "df[\"Area\"] = df[\"Area\"].apply(lambda x: float(x.split()[0].replace(',', '')))\n",
    "df = df.drop([709, 1604, 570, 2802])  # Drop specific rows\n",
    "df = df.dropna()\n",
    "df.head()"
   ]
  },
  {
   "cell_type": "markdown",
   "id": "3ae5d570-644f-4ce8-bff5-c3e5070a6f6a",
   "metadata": {},
   "source": [
    "# Work on data"
   ]
  },
  {
   "cell_type": "code",
   "execution_count": 3,
   "id": "875689fd-7d55-4f29-ba85-0de42635c723",
   "metadata": {},
   "outputs": [
    {
     "name": "stderr",
     "output_type": "stream",
     "text": [
      "C:\\Users\\Mohammad\\AppData\\Local\\Programs\\Python\\Python38\\lib\\site-packages\\sklearn\\preprocessing\\_encoders.py:975: FutureWarning: `sparse` was renamed to `sparse_output` in version 1.2 and will be removed in 1.4. `sparse_output` is ignored unless you leave `sparse` to its default value.\n",
      "  warnings.warn(\n"
     ]
    }
   ],
   "source": [
    "label_encoder = LabelEncoder()\n",
    "df['Original_Address'] = df['Address']  # Save original 'Address' values\n",
    "df['Address'] = label_encoder.fit_transform(df['Address'])\n",
    "\n",
    "# Convert boolean columns to int64\n",
    "df['Parking'] = df['Parking'].astype('int64')\n",
    "df['Warehouse'] = df['Warehouse'].astype('int64')\n",
    "df['Elevator'] = df['Elevator'].astype('int64')\n",
    "\n",
    "# Features and target\n",
    "X = df[['Area', 'Room', 'Parking', 'Warehouse', 'Elevator', 'Address']].values\n",
    "y = df[['Price(USD)']].values\n",
    "\n",
    "# One-hot encode the 'Address' column\n",
    "onehot_encoder = OneHotEncoder(sparse=False, drop='first')\n",
    "address_encoded = onehot_encoder.fit_transform(df[['Address']])\n",
    "feature_names = onehot_encoder.get_feature_names_out(['Address'])\n",
    "df_encoded = pd.concat([df, pd.DataFrame(address_encoded, columns=feature_names)], axis=1)\n",
    "\n",
    "# Drop the original 'Address' column\n",
    "df_encoded = df_encoded.drop(columns=['Address'])"
   ]
  },
  {
   "cell_type": "code",
   "execution_count": 4,
   "id": "cc948819-81d5-4bd5-846d-bb05c2ea68b6",
   "metadata": {},
   "outputs": [
    {
     "data": {
      "text/plain": [
       "['scaler.joblib']"
      ]
     },
     "execution_count": 4,
     "metadata": {},
     "output_type": "execute_result"
    }
   ],
   "source": [
    "# Standardize features\n",
    "scaler = preprocessing.StandardScaler().fit(X)\n",
    "X = scaler.transform(X.astype(float))\n",
    "joblib.dump(scaler, 'scaler.joblib')\n"
   ]
  },
  {
   "cell_type": "markdown",
   "id": "4cd6c339-40d5-4692-985b-1ea32e03b289",
   "metadata": {},
   "source": [
    "# Training/testing process"
   ]
  },
  {
   "cell_type": "code",
   "execution_count": 5,
   "id": "4169c44a-185e-41e6-a1af-6a77a2f2de2b",
   "metadata": {},
   "outputs": [
    {
     "name": "stdout",
     "output_type": "stream",
     "text": [
      "R2 Score: 0.7433699252165692\n",
      "Mean Squared Error: 23521117013.477245\n",
      "Accuracy: 74.34%\n"
     ]
    },
    {
     "data": {
      "text/plain": [
       "['knnr_model.joblib']"
      ]
     },
     "execution_count": 5,
     "metadata": {},
     "output_type": "execute_result"
    }
   ],
   "source": [
    "# Train-test split\n",
    "X_train, X_test, y_train, y_test = train_test_split(X, y, test_size=0.2, random_state=4)\n",
    "\n",
    "# K-Nearest Neighbors Regression\n",
    "k = 3\n",
    "knnr = KNeighborsRegressor(n_neighbors=k).fit(X_train, y_train)\n",
    "\n",
    "# Predictions\n",
    "yhat = knnr.predict(X_test)\n",
    "\n",
    "# Model evaluation\n",
    "r2 = r2_score(y_test, yhat)\n",
    "mse = mean_squared_error(yhat, y_test)\n",
    "acc = r2 * 100\n",
    "print(f'R2 Score: {r2}')\n",
    "print(f'Mean Squared Error: {mse}')\n",
    "print(f'Accuracy: {acc:.2f}%')\n",
    "\n",
    "# Save the trained model to a file\n",
    "joblib.dump(knnr, 'knnr_model.joblib')"
   ]
  },
  {
   "cell_type": "code",
   "execution_count": 6,
   "id": "9a0c2817-0317-460d-8434-40f7b1848564",
   "metadata": {},
   "outputs": [
    {
     "name": "stdout",
     "output_type": "stream",
     "text": [
      "        Original_Address  Address\n",
      "0                Shahran      156\n",
      "1                Shahran      156\n",
      "2                 Pardis      117\n",
      "3          Shahrake Qods      152\n",
      "4         Shahrake Gharb      150\n",
      "...                  ...      ...\n",
      "3474  Southern Janatabad      163\n",
      "3475            Niavaran      105\n",
      "3476              Parand      115\n",
      "3477              Dorous       39\n",
      "3478              Parand      115\n",
      "\n",
      "[3452 rows x 2 columns]\n"
     ]
    }
   ],
   "source": [
    "# Display the DataFrame with original and transformed 'Address' values\n",
    "df_address_values = df[['Original_Address', 'Address']]\n",
    "print(df_address_values)"
   ]
  }
 ],
 "metadata": {
  "kernelspec": {
   "display_name": "Python 3 (ipykernel)",
   "language": "python",
   "name": "python3"
  },
  "language_info": {
   "codemirror_mode": {
    "name": "ipython",
    "version": 3
   },
   "file_extension": ".py",
   "mimetype": "text/x-python",
   "name": "python",
   "nbconvert_exporter": "python",
   "pygments_lexer": "ipython3",
   "version": "3.8.10"
  }
 },
 "nbformat": 4,
 "nbformat_minor": 5
}
